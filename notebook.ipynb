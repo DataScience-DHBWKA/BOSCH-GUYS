{
 "cells": [
  {
   "cell_type": "markdown",
   "metadata": {},
   "source": [
    "# Elektromobilität in den USA - Entwicklungen und Unterschiede"
   ]
  },
  {
   "cell_type": "code",
   "execution_count": 9,
   "metadata": {},
   "outputs": [],
   "source": [
    "import pandas as pd\n",
    "import numpy as np\n",
    "import seaborn as sns\n",
    "import matplotlib.pyplot as plt\n",
    "import folium\n",
    "\n",
    "from sklearn.linear_model import LinearRegression\n",
    "from sklearn.model_selection import train_test_split\n",
    "from sklearn.metrics import r2_score\n",
    "from sklearn.metrics import mean_squared_error\n",
    "from folium.plugins import HeatMap"
   ]
  },
  {
   "cell_type": "markdown",
   "metadata": {},
   "source": [
    "## Data Preperation"
   ]
  },
  {
   "cell_type": "code",
   "execution_count": 10,
   "metadata": {},
   "outputs": [],
   "source": [
    "# dataset 1 - vehicle registrations\n",
    "registrations = pd.read_csv('data/vehicle_registrations.csv')\n",
    "\n",
    "registrations.rename(columns={'Electric (EV)': 'Electric'}, inplace=True)\n",
    "\n",
    "for column_name, values in registrations.items():\n",
    "    if column_name != 'State':\n",
    "        registrations[column_name] = registrations[column_name].replace({',': ''}, regex=True).astype(int)\n",
    "\n",
    "columns_to_remove = ['Plug-In Hybrid Electric (PHEV)', 'Hybrid Electric (HEV)']\n",
    "registrations['Hybrid'] = registrations[columns_to_remove].sum(axis=1)\n",
    "registrations.drop(columns=columns_to_remove, inplace=True)\n",
    "\n",
    "columns_to_remove = ['Gasoline', 'Diesel']\n",
    "registrations['Fuel'] = registrations[columns_to_remove].sum(axis=1)\n",
    "registrations.drop(columns=columns_to_remove, inplace=True)\n",
    "\n",
    "columns_to_remove = ['Biodiesel', 'Ethanol/Flex (E85)', 'Compressed Natural Gas (CNG)', 'Propane', 'Hydrogen', 'Methanol', 'Unknown Fuel']\n",
    "registrations['Other'] = registrations[columns_to_remove].sum(axis=1)\n",
    "registrations.drop(columns=columns_to_remove, inplace=True)"
   ]
  },
  {
   "cell_type": "code",
   "execution_count": 11,
   "metadata": {},
   "outputs": [],
   "source": [
    "# dataset 2 - alternative fuel stations\n",
    "columns_to_keep = ['State', 'Latitude', 'Longitude', 'Open Date']\n",
    "\n",
    "stations = pd.read_csv('data/alt_fuel_stations (Dec 2 2023).csv', usecols=columns_to_keep, engine='python')\n",
    "\n",
    "stations['Open Date'] = pd.to_datetime(stations['Open Date'], format='%Y-%m-%d')"
   ]
  },
  {
   "cell_type": "code",
   "execution_count": 12,
   "metadata": {},
   "outputs": [],
   "source": [
    "# dataset 3 - USA\n",
    "usa = pd.read_csv('data/usa.csv')\n",
    "\n",
    "columns_to_int = ['Population', 'Land_area']\n",
    "usa[columns_to_int] = usa[columns_to_int].replace({',': ''}, regex=True).apply(pd.to_numeric)"
   ]
  }
 ],
 "metadata": {
  "kernelspec": {
   "display_name": "base",
   "language": "python",
   "name": "python3"
  },
  "language_info": {
   "codemirror_mode": {
    "name": "ipython",
    "version": 3
   },
   "file_extension": ".py",
   "mimetype": "text/x-python",
   "name": "python",
   "nbconvert_exporter": "python",
   "pygments_lexer": "ipython3",
   "version": "3.10.9"
  }
 },
 "nbformat": 4,
 "nbformat_minor": 2
}
