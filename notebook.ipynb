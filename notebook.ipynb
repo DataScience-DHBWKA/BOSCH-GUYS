{
 "cells": [
  {
   "cell_type": "markdown",
   "metadata": {},
   "source": [
    "# Elektromobilität in den USA - Entwicklungen und Unterschiede"
   ]
  },
  {
   "cell_type": "code",
   "execution_count": 137,
   "metadata": {},
   "outputs": [],
   "source": [
    "import pandas as pd\n",
    "import numpy as np\n",
    "import seaborn as sns\n",
    "import matplotlib.pyplot as plt\n",
    "import folium\n",
    "\n",
    "from sklearn.linear_model import LinearRegression\n",
    "from sklearn.model_selection import train_test_split\n",
    "from sklearn.metrics import r2_score\n",
    "from sklearn.metrics import mean_squared_error\n",
    "from folium.plugins import HeatMap"
   ]
  },
  {
   "cell_type": "markdown",
   "metadata": {},
   "source": [
    "## Data Preperation"
   ]
  },
  {
   "cell_type": "markdown",
   "metadata": {},
   "source": [
    "### Datensatz 1\n",
    "\n",
    "Link zum Datensatz 1: https://afdc.energy.gov/vehicle-registration"
   ]
  },
  {
   "cell_type": "code",
   "execution_count": 138,
   "metadata": {},
   "outputs": [],
   "source": [
    "# dataset 1 - vehicle registrations\n",
    "registrations = pd.read_csv('data/vehicle_registrations.csv')\n",
    "\n",
    "registrations.rename(columns={'Electric (EV)': 'Electric'}, inplace=True)\n",
    "\n",
    "for column_name, values in registrations.items():\n",
    "    if column_name != 'State':\n",
    "        registrations[column_name] = registrations[column_name].replace({',': ''}, regex=True).astype(int)\n",
    "\n",
    "columns_to_remove = ['Plug-In Hybrid Electric (PHEV)', 'Hybrid Electric (HEV)']\n",
    "registrations['Hybrid'] = registrations[columns_to_remove].sum(axis=1)\n",
    "registrations.drop(columns=columns_to_remove, inplace=True)\n",
    "\n",
    "columns_to_remove = ['Gasoline', 'Diesel']\n",
    "registrations['Fuel'] = registrations[columns_to_remove].sum(axis=1)\n",
    "registrations.drop(columns=columns_to_remove, inplace=True)\n",
    "\n",
    "columns_to_remove = ['Biodiesel', 'Ethanol/Flex (E85)', 'Compressed Natural Gas (CNG)', 'Propane', 'Hydrogen', 'Methanol', 'Unknown Fuel']\n",
    "registrations['Other'] = registrations[columns_to_remove].sum(axis=1)\n",
    "registrations.drop(columns=columns_to_remove, inplace=True)"
   ]
  },
  {
   "cell_type": "code",
   "execution_count": 139,
   "metadata": {},
   "outputs": [
    {
     "name": "stdout",
     "output_type": "stream",
     "text": [
      "<class 'pandas.core.frame.DataFrame'>\n",
      "RangeIndex: 357 entries, 0 to 356\n",
      "Data columns (total 6 columns):\n",
      " #   Column    Non-Null Count  Dtype \n",
      "---  ------    --------------  ----- \n",
      " 0   Year      357 non-null    int64 \n",
      " 1   State     357 non-null    object\n",
      " 2   Electric  357 non-null    int64 \n",
      " 3   Hybrid    357 non-null    int64 \n",
      " 4   Fuel      357 non-null    int64 \n",
      " 5   Other     357 non-null    int64 \n",
      "dtypes: int64(5), object(1)\n",
      "memory usage: 16.9+ KB\n"
     ]
    }
   ],
   "source": [
    "registrations.info()"
   ]
  },
  {
   "cell_type": "code",
   "execution_count": 140,
   "metadata": {},
   "outputs": [
    {
     "data": {
      "text/html": [
       "<div>\n",
       "<style scoped>\n",
       "    .dataframe tbody tr th:only-of-type {\n",
       "        vertical-align: middle;\n",
       "    }\n",
       "\n",
       "    .dataframe tbody tr th {\n",
       "        vertical-align: top;\n",
       "    }\n",
       "\n",
       "    .dataframe thead th {\n",
       "        text-align: right;\n",
       "    }\n",
       "</style>\n",
       "<table border=\"1\" class=\"dataframe\">\n",
       "  <thead>\n",
       "    <tr style=\"text-align: right;\">\n",
       "      <th></th>\n",
       "      <th>Year</th>\n",
       "      <th>State</th>\n",
       "      <th>Electric</th>\n",
       "      <th>Hybrid</th>\n",
       "      <th>Fuel</th>\n",
       "      <th>Other</th>\n",
       "    </tr>\n",
       "  </thead>\n",
       "  <tbody>\n",
       "    <tr>\n",
       "      <th>0</th>\n",
       "      <td>2016</td>\n",
       "      <td>Alabama</td>\n",
       "      <td>500</td>\n",
       "      <td>30000</td>\n",
       "      <td>3903800</td>\n",
       "      <td>502300</td>\n",
       "    </tr>\n",
       "    <tr>\n",
       "      <th>1</th>\n",
       "      <td>2016</td>\n",
       "      <td>Alaska</td>\n",
       "      <td>200</td>\n",
       "      <td>5200</td>\n",
       "      <td>570700</td>\n",
       "      <td>80000</td>\n",
       "    </tr>\n",
       "    <tr>\n",
       "      <th>2</th>\n",
       "      <td>2016</td>\n",
       "      <td>Arizona</td>\n",
       "      <td>4700</td>\n",
       "      <td>94000</td>\n",
       "      <td>4984500</td>\n",
       "      <td>557700</td>\n",
       "    </tr>\n",
       "    <tr>\n",
       "      <th>3</th>\n",
       "      <td>2016</td>\n",
       "      <td>Arkansas</td>\n",
       "      <td>200</td>\n",
       "      <td>19600</td>\n",
       "      <td>2194600</td>\n",
       "      <td>355300</td>\n",
       "    </tr>\n",
       "    <tr>\n",
       "      <th>4</th>\n",
       "      <td>2016</td>\n",
       "      <td>California</td>\n",
       "      <td>141500</td>\n",
       "      <td>1083400</td>\n",
       "      <td>27951400</td>\n",
       "      <td>1520400</td>\n",
       "    </tr>\n",
       "  </tbody>\n",
       "</table>\n",
       "</div>"
      ],
      "text/plain": [
       "   Year       State  Electric   Hybrid      Fuel    Other\n",
       "0  2016     Alabama       500    30000   3903800   502300\n",
       "1  2016      Alaska       200     5200    570700    80000\n",
       "2  2016     Arizona      4700    94000   4984500   557700\n",
       "3  2016    Arkansas       200    19600   2194600   355300\n",
       "4  2016  California    141500  1083400  27951400  1520400"
      ]
     },
     "execution_count": 140,
     "metadata": {},
     "output_type": "execute_result"
    }
   ],
   "source": [
    "registrations.head()"
   ]
  },
  {
   "cell_type": "markdown",
   "metadata": {},
   "source": [
    "### Datensatz 2\n",
    "\n",
    "Link zum Datensatz 2: https://afdc.energy.gov/data_download/\n",
    "+ Dataset \"Alternative fuel stations\"\n",
    "+ Fuel type \"Electric\""
   ]
  },
  {
   "cell_type": "code",
   "execution_count": 141,
   "metadata": {},
   "outputs": [],
   "source": [
    "# dataset 2 - alternative fuel stations\n",
    "columns_to_keep = ['State', 'Latitude', 'Longitude', 'Open Date']\n",
    "\n",
    "stations = pd.read_csv('data/alt_fuel_stations (Dec 2 2023).csv', usecols=columns_to_keep, engine='python')\n",
    "\n",
    "stations['Open Date'] = pd.to_datetime(stations['Open Date'], format='%Y-%m-%d')"
   ]
  },
  {
   "cell_type": "code",
   "execution_count": 142,
   "metadata": {},
   "outputs": [
    {
     "name": "stdout",
     "output_type": "stream",
     "text": [
      "<class 'pandas.core.frame.DataFrame'>\n",
      "RangeIndex: 68016 entries, 0 to 68015\n",
      "Data columns (total 4 columns):\n",
      " #   Column     Non-Null Count  Dtype         \n",
      "---  ------     --------------  -----         \n",
      " 0   State      68002 non-null  object        \n",
      " 1   Latitude   68016 non-null  float64       \n",
      " 2   Longitude  68016 non-null  float64       \n",
      " 3   Open Date  67868 non-null  datetime64[ns]\n",
      "dtypes: datetime64[ns](1), float64(2), object(1)\n",
      "memory usage: 2.1+ MB\n"
     ]
    }
   ],
   "source": [
    "stations.info()"
   ]
  },
  {
   "cell_type": "code",
   "execution_count": 143,
   "metadata": {},
   "outputs": [
    {
     "data": {
      "text/html": [
       "<div>\n",
       "<style scoped>\n",
       "    .dataframe tbody tr th:only-of-type {\n",
       "        vertical-align: middle;\n",
       "    }\n",
       "\n",
       "    .dataframe tbody tr th {\n",
       "        vertical-align: top;\n",
       "    }\n",
       "\n",
       "    .dataframe thead th {\n",
       "        text-align: right;\n",
       "    }\n",
       "</style>\n",
       "<table border=\"1\" class=\"dataframe\">\n",
       "  <thead>\n",
       "    <tr style=\"text-align: right;\">\n",
       "      <th></th>\n",
       "      <th>State</th>\n",
       "      <th>Latitude</th>\n",
       "      <th>Longitude</th>\n",
       "      <th>Open Date</th>\n",
       "    </tr>\n",
       "  </thead>\n",
       "  <tbody>\n",
       "    <tr>\n",
       "      <th>0</th>\n",
       "      <td>CA</td>\n",
       "      <td>34.248319</td>\n",
       "      <td>-118.387971</td>\n",
       "      <td>1999-10-15</td>\n",
       "    </tr>\n",
       "    <tr>\n",
       "      <th>1</th>\n",
       "      <td>CA</td>\n",
       "      <td>34.052542</td>\n",
       "      <td>-118.448504</td>\n",
       "      <td>2020-02-28</td>\n",
       "    </tr>\n",
       "    <tr>\n",
       "      <th>2</th>\n",
       "      <td>CA</td>\n",
       "      <td>34.040539</td>\n",
       "      <td>-118.271387</td>\n",
       "      <td>1995-08-30</td>\n",
       "    </tr>\n",
       "    <tr>\n",
       "      <th>3</th>\n",
       "      <td>CA</td>\n",
       "      <td>34.059133</td>\n",
       "      <td>-118.248589</td>\n",
       "      <td>1999-10-15</td>\n",
       "    </tr>\n",
       "    <tr>\n",
       "      <th>4</th>\n",
       "      <td>CA</td>\n",
       "      <td>33.759802</td>\n",
       "      <td>-118.096665</td>\n",
       "      <td>2018-05-01</td>\n",
       "    </tr>\n",
       "  </tbody>\n",
       "</table>\n",
       "</div>"
      ],
      "text/plain": [
       "  State   Latitude   Longitude  Open Date\n",
       "0    CA  34.248319 -118.387971 1999-10-15\n",
       "1    CA  34.052542 -118.448504 2020-02-28\n",
       "2    CA  34.040539 -118.271387 1995-08-30\n",
       "3    CA  34.059133 -118.248589 1999-10-15\n",
       "4    CA  33.759802 -118.096665 2018-05-01"
      ]
     },
     "execution_count": 143,
     "metadata": {},
     "output_type": "execute_result"
    }
   ],
   "source": [
    "stations.head()"
   ]
  },
  {
   "cell_type": "markdown",
   "metadata": {},
   "source": [
    "### Datensatz 3\n",
    "\n",
    "Eigens zusammengestellter Datensatz anhand der folgenden Quellen:\n",
    "+ https://en.wikipedia.org/wiki/Red_states_and_blue_states#/media/File:Red_state,_blue_state.svg\n",
    "+ https://en.wikipedia.org/wiki/List_of_U.S._states_and_territories_by_population\n",
    "+ https://en.wikipedia.org/wiki/List_of_U.S._states_and_territories_by_area"
   ]
  },
  {
   "cell_type": "code",
   "execution_count": 144,
   "metadata": {},
   "outputs": [],
   "source": [
    "# dataset 3 - USA\n",
    "usa = pd.read_csv('data/usa.csv')\n",
    "\n",
    "columns_to_int = ['Population', 'Land_area']\n",
    "usa[columns_to_int] = usa[columns_to_int].replace({',': ''}, regex=True).apply(pd.to_numeric)"
   ]
  },
  {
   "cell_type": "code",
   "execution_count": 145,
   "metadata": {},
   "outputs": [
    {
     "name": "stdout",
     "output_type": "stream",
     "text": [
      "<class 'pandas.core.frame.DataFrame'>\n",
      "RangeIndex: 51 entries, 0 to 50\n",
      "Data columns (total 5 columns):\n",
      " #   Column        Non-Null Count  Dtype \n",
      "---  ------        --------------  ----- \n",
      " 0   State         51 non-null     object\n",
      " 1   Abbreviation  51 non-null     object\n",
      " 2   Vote          51 non-null     object\n",
      " 3   Population    51 non-null     int64 \n",
      " 4   Land_area     51 non-null     int64 \n",
      "dtypes: int64(2), object(3)\n",
      "memory usage: 2.1+ KB\n"
     ]
    }
   ],
   "source": [
    "usa.info()"
   ]
  },
  {
   "cell_type": "code",
   "execution_count": 146,
   "metadata": {},
   "outputs": [
    {
     "data": {
      "text/html": [
       "<div>\n",
       "<style scoped>\n",
       "    .dataframe tbody tr th:only-of-type {\n",
       "        vertical-align: middle;\n",
       "    }\n",
       "\n",
       "    .dataframe tbody tr th {\n",
       "        vertical-align: top;\n",
       "    }\n",
       "\n",
       "    .dataframe thead th {\n",
       "        text-align: right;\n",
       "    }\n",
       "</style>\n",
       "<table border=\"1\" class=\"dataframe\">\n",
       "  <thead>\n",
       "    <tr style=\"text-align: right;\">\n",
       "      <th></th>\n",
       "      <th>State</th>\n",
       "      <th>Abbreviation</th>\n",
       "      <th>Vote</th>\n",
       "      <th>Population</th>\n",
       "      <th>Land_area</th>\n",
       "    </tr>\n",
       "  </thead>\n",
       "  <tbody>\n",
       "    <tr>\n",
       "      <th>0</th>\n",
       "      <td>Alabama</td>\n",
       "      <td>AL</td>\n",
       "      <td>red</td>\n",
       "      <td>5074296</td>\n",
       "      <td>131171</td>\n",
       "    </tr>\n",
       "    <tr>\n",
       "      <th>1</th>\n",
       "      <td>Alaska</td>\n",
       "      <td>AK</td>\n",
       "      <td>red</td>\n",
       "      <td>733583</td>\n",
       "      <td>1477953</td>\n",
       "    </tr>\n",
       "    <tr>\n",
       "      <th>2</th>\n",
       "      <td>Arizona</td>\n",
       "      <td>AZ</td>\n",
       "      <td>lightred</td>\n",
       "      <td>7359197</td>\n",
       "      <td>294207</td>\n",
       "    </tr>\n",
       "    <tr>\n",
       "      <th>3</th>\n",
       "      <td>Arkansas</td>\n",
       "      <td>AR</td>\n",
       "      <td>red</td>\n",
       "      <td>3045637</td>\n",
       "      <td>134771</td>\n",
       "    </tr>\n",
       "    <tr>\n",
       "      <th>4</th>\n",
       "      <td>California</td>\n",
       "      <td>CA</td>\n",
       "      <td>blue</td>\n",
       "      <td>39029342</td>\n",
       "      <td>403466</td>\n",
       "    </tr>\n",
       "  </tbody>\n",
       "</table>\n",
       "</div>"
      ],
      "text/plain": [
       "        State Abbreviation      Vote  Population  Land_area\n",
       "0     Alabama           AL       red     5074296     131171\n",
       "1      Alaska           AK       red      733583    1477953\n",
       "2     Arizona           AZ  lightred     7359197     294207\n",
       "3    Arkansas           AR       red     3045637     134771\n",
       "4  California           CA      blue    39029342     403466"
      ]
     },
     "execution_count": 146,
     "metadata": {},
     "output_type": "execute_result"
    }
   ],
   "source": [
    "usa.head()"
   ]
  },
  {
   "cell_type": "markdown",
   "metadata": {},
   "source": [
    "## Modelling"
   ]
  },
  {
   "cell_type": "code",
   "execution_count": 147,
   "metadata": {},
   "outputs": [
    {
     "data": {
      "image/png": "[encoded data removed]",
      "text/plain": [
       "<Figure size 1000x500 with 2 Axes>"
      ]
     },
     "metadata": {},
     "output_type": "display_data"
    }
   ],
   "source": [
    "# Vergleich Anteil 2016 zu 2022\n",
    "registrations_type16 = registrations[registrations['Year'] == 2016]\n",
    "registrations_type16 = registrations_type16.drop(columns={'Year', 'State'})\n",
    "registrations_type16 = registrations_type16.sum()\n",
    "\n",
    "registrations_type22 = registrations[registrations['Year'] == 2022]\n",
    "registrations_type22 = registrations_type22.drop(columns={'Year', 'State'})\n",
    "registrations_type22 = registrations_type22.sum()\n",
    "\n",
    "legend16 = [f'{label} ({value/registrations_type16.sum()*100:.2f}%)' for label, value in zip(registrations_type16.index, registrations_type16)]\n",
    "legend22 = [f'{label} ({value/registrations_type22.sum()*100:.2f}%)' for label, value in zip(registrations_type22.index, registrations_type22)]\n",
    "\n",
    "fig, axs = plt.subplots(1, 2, figsize=(10, 5))\n",
    "\n",
    "axs[0].pie(registrations_type16, startangle=90)\n",
    "axs[0].set_title('2016')\n",
    "axs[0].set_xticks(axs[0].get_xticks())\n",
    "axs[0].set_xticklabels(axs[0].get_xticklabels(), rotation=90, fontsize=8)\n",
    "axs[0].legend(legend16, loc=\"center left\")\n",
    "\n",
    "axs[1].pie(registrations_type22, startangle=90)\n",
    "axs[1].set_title('2022')\n",
    "axs[1].set_xticks(axs[1].get_xticks())\n",
    "axs[1].set_xticklabels(axs[1].get_xticklabels(), rotation=90, fontsize=8)\n",
    "axs[1].legend(legend22, loc=\"center right\")\n",
    "\n",
    "plt.tight_layout()\n",
    "plt.show()"
   ]
  }
 ],
 "metadata": {
  "kernelspec": {
   "display_name": "base",
   "language": "python",
   "name": "python3"
  },
  "language_info": {
   "codemirror_mode": {
    "name": "ipython",
    "version": 3
   },
   "file_extension": ".py",
   "mimetype": "text/x-python",
   "name": "python",
   "nbconvert_exporter": "python",
   "pygments_lexer": "ipython3",
   "version": "3.10.9"
  }
 },
 "nbformat": 4,
 "nbformat_minor": 2
}
