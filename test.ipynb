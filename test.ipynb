{
 "cells": [
  {
   "cell_type": "code",
   "execution_count": null,
   "metadata": {},
   "outputs": [],
   "source": [
    "from sklearn.linear_model import LinearRegression\n",
    "from sklearn.model_selection import train_test_split\n",
    "import numpy as np\n",
    "import matplotlib.pyplot as plt\n",
    "\n",
    "# Input-Variable\n",
    "x_reg = stations_trend['Open Date']\n",
    "# Quadratischer Term hinzufügen\n",
    "x_reg_sq = x_reg ** 2\n",
    "# Input-Matrix erstellen (linearer Term und quadratischer Term)\n",
    "X_reg = np.column_stack((x_reg, x_reg_sq))\n",
    "\n",
    "# Output-Variable\n",
    "y_reg = stations_trend['Count']\n",
    "\n",
    "# Aufteilen in Test- und Trainingsdatensatz\n",
    "x_reg_train, x_reg_test, y_reg_train, y_reg_test = train_test_split(X_reg, y_reg, test_size=0.3, random_state=1)\n",
    "\n",
    "# Lernen des Modells\n",
    "regressor = LinearRegression()\n",
    "regressor.fit(x_reg_train, y_reg_train)\n",
    "\n",
    "# Plot für Trainingsdaten\n",
    "x_input = np.linspace(min(x_reg_train[:, 0]), max(x_reg_train[:, 0]), 100).reshape(-1, 1)\n",
    "x_input_sq = x_input ** 2\n",
    "X_input = np.column_stack((x_input, x_input_sq))\n",
    "y_input = regressor.predict(X_input)\n",
    "\n",
    "plt.scatter(x_reg_train[:, 0], y_reg_train, color='blue', label='Trainingsdaten')\n",
    "plt.plot(x_input, y_input, color='red', linewidth=3, label='Quadratische Regression')\n",
    "plt.xlabel('Open Date')\n",
    "plt.ylabel('Count')\n",
    "plt.legend()\n",
    "plt.show()\n",
    "\n",
    "# Trainingsfehler R^2 und MSE\n",
    "y_reg_train_pred = regressor.predict(x_reg_train)\n"
   ]
  }
 ],
 "metadata": {
  "kernelspec": {
   "display_name": "base",
   "language": "python",
   "name": "python3"
  },
  "language_info": {
   "name": "python",
   "version": "3.10.9"
  }
 },
 "nbformat": 4,
 "nbformat_minor": 2
}
